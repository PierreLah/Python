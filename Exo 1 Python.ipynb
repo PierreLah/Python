{
 "cells": [
  {
   "cell_type": "code",
   "execution_count": 3,
   "id": "d2e8e9fb",
   "metadata": {},
   "outputs": [],
   "source": []
  },
  {
   "cell_type": "code",
   "execution_count": 12,
   "id": "9bc44235",
   "metadata": {},
   "outputs": [],
   "source": [
    "def polynome(x):\n",
    "    return(x**3 -1.5*x**2 -6*x+5)"
   ]
  },
  {
   "cell_type": "code",
   "execution_count": 13,
   "id": "82a121f2",
   "metadata": {},
   "outputs": [
    {
     "data": {
      "text/plain": [
       "62.5"
      ]
     },
     "execution_count": 13,
     "metadata": {},
     "output_type": "execute_result"
    }
   ],
   "source": [
    "polynome(5)"
   ]
  },
  {
   "cell_type": "code",
   "execution_count": 17,
   "id": "1cfa018b",
   "metadata": {},
   "outputs": [],
   "source": [
    "def factorielle(n):\n",
    "    if n==0:\n",
    "        return 1\n",
    "    else:\n",
    "        x = 1\n",
    "        for i in range (2, n+1):\n",
    "            x = x * i\n",
    "            \n",
    "    return x\n",
    "        \n"
   ]
  },
  {
   "cell_type": "code",
   "execution_count": 18,
   "id": "2491be71",
   "metadata": {},
   "outputs": [
    {
     "data": {
      "text/plain": [
       "120"
      ]
     },
     "execution_count": 18,
     "metadata": {},
     "output_type": "execute_result"
    }
   ],
   "source": [
    "factorielle(5)"
   ]
  },
  {
   "cell_type": "code",
   "execution_count": 49,
   "id": "981260e0",
   "metadata": {},
   "outputs": [],
   "source": []
  },
  {
   "cell_type": "code",
   "execution_count": null,
   "id": "deb160d4",
   "metadata": {},
   "outputs": [],
   "source": []
  },
  {
   "cell_type": "code",
   "execution_count": 53,
   "id": "de59bd43",
   "metadata": {},
   "outputs": [
    {
     "name": "stdout",
     "output_type": "stream",
     "text": [
      "Entrez un nombre:4\n",
      "La suite de fibonacci est :\n",
      "0\n",
      "1\n",
      "1\n",
      "2\n"
     ]
    }
   ],
   "source": [
    "def fibonacci(n):\n",
    "    if (n<=1):\n",
    "        return n\n",
    "    else:\n",
    "        return fibonacci(n-1) + fibonacci(n-2)\n",
    "n = int(input(\"Entrez un nombre:\"))\n",
    "print(\"La suite de fibonacci est :\")\n",
    "for i in range(n):\n",
    "    print(fibonacci(i))"
   ]
  },
  {
   "cell_type": "code",
   "execution_count": 21,
   "id": "e232fd99",
   "metadata": {},
   "outputs": [],
   "source": []
  }
 ],
 "metadata": {
  "kernelspec": {
   "display_name": "Python 3",
   "language": "python",
   "name": "python3"
  },
  "language_info": {
   "codemirror_mode": {
    "name": "ipython",
    "version": 3
   },
   "file_extension": ".py",
   "mimetype": "text/x-python",
   "name": "python",
   "nbconvert_exporter": "python",
   "pygments_lexer": "ipython3",
   "version": "3.8.8"
  }
 },
 "nbformat": 4,
 "nbformat_minor": 5
}
