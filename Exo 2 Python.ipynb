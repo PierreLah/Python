{
 "cells": [
  {
   "cell_type": "code",
   "execution_count": 64,
   "id": "6ae14359",
   "metadata": {},
   "outputs": [],
   "source": [
    "def fibonacci_iter(n):\n",
    "    if(type(n)==str):\n",
    "        print(\"Impossibilité de saisir un str dans la fonction\")\n",
    "        print(\"Veuillez saisir un valeur numérique:\")\n",
    "        n= int(input())\n",
    "        fibonacci_iter(n)\n",
    "    elif (type(n) in [int, float]):\n",
    "        n=abs(n)\n",
    "        a=1\n",
    "        b=1\n",
    "        if n==1:\n",
    "            print('0')\n",
    "        elif n==2:\n",
    "            print('0','1')\n",
    "        else:\n",
    "            print('0')\n",
    "            print(a)\n",
    "            print(b)\n",
    "            for i in range(n-3):\n",
    "                total = a + b\n",
    "                b=a\n",
    "                a= total\n",
    "                print(total)"
   ]
  },
  {
   "cell_type": "code",
   "execution_count": 65,
   "id": "bf4b3a99",
   "metadata": {},
   "outputs": [
    {
     "name": "stdout",
     "output_type": "stream",
     "text": [
      "Impossibilité de saisir un str dans la fonction\n",
      "Veuillez saisir un valeur numérique:\n",
      "6\n",
      "0\n",
      "1\n",
      "1\n",
      "2\n",
      "3\n",
      "5\n"
     ]
    }
   ],
   "source": [
    "fibonacci_iter(\"pierre\")"
   ]
  },
  {
   "cell_type": "code",
   "execution_count": 66,
   "id": "c83459d4",
   "metadata": {},
   "outputs": [
    {
     "name": "stdout",
     "output_type": "stream",
     "text": [
      "0\n",
      "1\n",
      "1\n",
      "2\n"
     ]
    }
   ],
   "source": [
    "fibonacci_iter(-4)"
   ]
  }
 ],
 "metadata": {
  "kernelspec": {
   "display_name": "Python 3",
   "language": "python",
   "name": "python3"
  },
  "language_info": {
   "codemirror_mode": {
    "name": "ipython",
    "version": 3
   },
   "file_extension": ".py",
   "mimetype": "text/x-python",
   "name": "python",
   "nbconvert_exporter": "python",
   "pygments_lexer": "ipython3",
   "version": "3.8.8"
  }
 },
 "nbformat": 4,
 "nbformat_minor": 5
}
